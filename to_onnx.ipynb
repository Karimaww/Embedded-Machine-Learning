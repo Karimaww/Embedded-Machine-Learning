{
 "cells": [
  {
   "cell_type": "markdown",
   "id": "16bb150c-fd2d-42e7-a63a-9f2c6151e872",
   "metadata": {},
   "source": [
    "To export a model, you will use the torch.onnx.export() function. This function executes the model, and records a trace of what operators are used to compute the outputs."
   ]
  },
  {
   "cell_type": "code",
   "execution_count": null,
   "id": "cdb1ffe9-78b3-4099-9185-83017987b5ef",
   "metadata": {},
   "outputs": [],
   "source": []
  },
  {
   "cell_type": "markdown",
   "id": "97c8e85f-f1b4-4911-944b-05aa6873e75a",
   "metadata": {},
   "source": [
    "It's important to call model.eval() or model.train(False) before exporting the model, as this sets the model to inference mode. This is needed since operators like dropout or batchnorm behave differently in inference and training mode."
   ]
  },
  {
   "cell_type": "code",
   "execution_count": null,
   "id": "4c41ec6f-871d-4d74-8247-ad843204f682",
   "metadata": {},
   "outputs": [],
   "source": [
    "if __name__ == \"__main__\": \n",
    "\n",
    "    # Let's build our model \n",
    "    #train(5) \n",
    "    #print('Finished Training') \n",
    "\n",
    "    # Test which classes performed well \n",
    "    #testAccuracy() \n",
    "\n",
    "    # Let's load the model we just created and test the accuracy per label \n",
    "    model = Network() \n",
    "    path = \"myFirstModel.pth\" \n",
    "    model.load_state_dict(torch.load(path)) \n",
    "\n",
    "    # Test with batch of images \n",
    "    #testBatch() \n",
    "    # Test how the classes performed \n",
    "    #testClassess() \n",
    " \n",
    "    # Conversion to ONNX \n",
    "    Convert_ONNX()"
   ]
  }
 ],
 "metadata": {
  "kernelspec": {
   "display_name": "Python 3 (ipykernel)",
   "language": "python",
   "name": "python3"
  },
  "language_info": {
   "codemirror_mode": {
    "name": "ipython",
    "version": 3
   },
   "file_extension": ".py",
   "mimetype": "text/x-python",
   "name": "python",
   "nbconvert_exporter": "python",
   "pygments_lexer": "ipython3",
   "version": "3.9.12"
  }
 },
 "nbformat": 4,
 "nbformat_minor": 5
}
