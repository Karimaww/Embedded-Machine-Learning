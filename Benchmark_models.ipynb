{
 "cells": [
  {
   "cell_type": "code",
   "execution_count": null,
   "id": "68599fd7-45df-4a2a-b3fa-e0ff42f2edfd",
   "metadata": {},
   "outputs": [],
   "source": [
    "from functions import *\n",
    "import torchvision.models as models\n",
    "import matplotlib.pyplot as plt\n"
   ]
  },
  {
   "cell_type": "code",
   "execution_count": 36,
   "id": "e5a09367-c1aa-4981-9be1-e124f22db46a",
   "metadata": {},
   "outputs": [],
   "source": [
    "transformations = transforms.Compose([transforms.ToTensor(), transforms.Normalize((0.5, 0.5, 0.5), (0.5, 0.5, 0.5))])\n",
    "#transformations = transforms.Compose([transforms.Resize(224),transforms.ToTensor(),transforms.Normalize((0.4914, 0.4822, 0.4465), (0.2023, 0.1994, 0.2010)),])"
   ]
  },
  {
   "cell_type": "code",
   "execution_count": 38,
   "id": "90350f14-5f58-479c-bdc4-e296467bf7f8",
   "metadata": {},
   "outputs": [
    {
     "name": "stdout",
     "output_type": "stream",
     "text": [
      "Files already downloaded and verified\n",
      "The model will be running on cpu device\n",
      "25.272510051727295  seconds in average for  10000.0  samples of testing data, for batch_size =  16\n",
      "Files already downloaded and verified\n",
      "The model will be running on cpu device\n",
      "19.831422090530396  seconds in average for  10000.0  samples of testing data, for batch_size =  32\n",
      "Files already downloaded and verified\n",
      "The model will be running on cpu device\n",
      "15.68657898902893  seconds in average for  10000.0  samples of testing data, for batch_size =  64\n",
      "Files already downloaded and verified\n",
      "The model will be running on cpu device\n",
      "14.344892263412476  seconds in average for  10000.0  samples of testing data, for batch_size =  128\n",
      "Files already downloaded and verified\n",
      "The model will be running on cpu device\n",
      "13.240203142166138  seconds in average for  10000.0  samples of testing data, for batch_size =  256\n",
      "Files already downloaded and verified\n",
      "The model will be running on cpu device\n",
      "13.7219717502594  seconds in average for  10000.0  samples of testing data, for batch_size =  512\n",
      "Files already downloaded and verified\n",
      "The model will be running on cpu device\n",
      "15.418692827224731  seconds in average for  10000.0  samples of testing data, for batch_size =  1024\n",
      "[25.272510051727295, 19.831422090530396, 15.68657898902893, 14.344892263412476, 13.240203142166138, 13.7219717502594, 15.418692827224731]\n"
     ]
    },
    {
     "data": {
      "text/plain": [
       "[<matplotlib.lines.Line2D at 0x7fa992521430>]"
      ]
     },
     "execution_count": 38,
     "metadata": {},
     "output_type": "execute_result"
    },
    {
     "data": {
      "image/png": "[encoded data removed]",
      "text/plain": [
       "<Figure size 640x480 with 1 Axes>"
      ]
     },
     "metadata": {},
     "output_type": "display_data"
    }
   ],
   "source": [
    "batch_size = [16,32,64,128,256,512,1024]\n",
    "inference_time = []\n",
    "for i in batch_size : \n",
    "    test_set = CIFAR10(root=\"./data\", train=False, transform=transformations, download=True)\n",
    "    test_loader = DataLoader(test_set, batch_size=i, shuffle=False, num_workers=0)\n",
    "\n",
    "    #model = models.resnet18(weights=\"ResNet18_Weights.DEFAULT\")\n",
    "    #model = models.alexnet(weights=\"AlexNet_Weights.DEFAULT\")\n",
    "    #model = models.squeezenet1_0(weights=\"SqueezeNet1_0_Weights.DEFAULT\")\n",
    "    model = models.googlenet(weights=\"GoogLeNet_Weights.DEFAULT\")\n",
    "    #model = models.vgg16(weights=\"VGG16_Weights.DEFAULT\")\n",
    "    #model = models.vgg19(weights=\"VGG19_Weights.DEFAULT\")\n",
    "    \n",
    "    device = torch.device(\"cuda:0\" if torch.cuda.is_available() else \"cpu\")\n",
    "    model.to(device)\n",
    "    print(\"The model will be running on\", device, \"device\")\n",
    "\n",
    "    start_time = time.time()\n",
    "    total = 0.0\n",
    "    with torch.no_grad():\n",
    "        for data in test_loader:\n",
    "            images, labels = data\n",
    "            images = images.to(device)\n",
    "            labels = labels.to(device)\n",
    "            # run the model on the test set to predict labels\n",
    "            outputs = model(images)\n",
    "            # the label with the highest energy will be our prediction\n",
    "            _, predicted = torch.max(outputs.data, 1)\n",
    "            total += labels.size(0)\n",
    "    end_time = time.time()\n",
    "    inference_time.append(end_time-start_time)\n",
    "    print(end_time-start_time, \" seconds in average for \", total, \" samples of testing data, for batch_size = \", i)    \n",
    "    \n",
    "print(inference_time)\n",
    "plt.plot(batch_size,inference_time)"
   ]
  },
  {
   "cell_type": "code",
   "execution_count": null,
   "id": "d8527240-901f-41d0-b60d-7d2c9d4c6731",
   "metadata": {},
   "outputs": [],
   "source": []
  }
 ],
 "metadata": {
  "kernelspec": {
   "display_name": "Python 3 (ipykernel)",
   "language": "python",
   "name": "python3"
  },
  "language_info": {
   "codemirror_mode": {
    "name": "ipython",
    "version": 3
   },
   "file_extension": ".py",
   "mimetype": "text/x-python",
   "name": "python",
   "nbconvert_exporter": "python",
   "pygments_lexer": "ipython3",
   "version": "3.9.12"
  }
 },
 "nbformat": 4,
 "nbformat_minor": 5
}
