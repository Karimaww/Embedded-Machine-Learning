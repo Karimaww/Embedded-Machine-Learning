{
 "cells": [
  {
   "cell_type": "code",
   "execution_count": 1,
   "id": "05f8c4f9-5a7c-4a7f-8f9a-61eb172f3636",
   "metadata": {},
   "outputs": [],
   "source": [
    "from functions import *"
   ]
  },
  {
   "cell_type": "code",
   "execution_count": 2,
   "id": "ef1ceb4a-b52e-4a40-a9e3-f4ee280ce0fb",
   "metadata": {},
   "outputs": [
    {
     "name": "stdout",
     "output_type": "stream",
     "text": [
      "Files already downloaded and verified\n",
      "The number of images in a training set is:  50000\n",
      "Files already downloaded and verified\n",
      "The number of images in a test set is:  10000\n",
      "The number of batches per epoch is:  3125\n"
     ]
    }
   ],
   "source": [
    "transformations = transforms.Compose([\n",
    "    transforms.ToTensor(),\n",
    "    transforms.Normalize((0.5, 0.5, 0.5), (0.5, 0.5, 0.5))\n",
    "])\n",
    "\n",
    "batch_size = 16\n",
    "number_of_labels = 10 \n",
    "\n",
    "train_set = CIFAR10(root=\"./data\",train=True,transform=transformations,download=True)\n",
    "train_loader = DataLoader(train_set, batch_size=batch_size, shuffle=True, num_workers=0)\n",
    "print(\"The number of images in a training set is: \", len(train_loader)*batch_size)\n",
    "\n",
    "test_set = CIFAR10(root=\"./data\", train=False, transform=transformations, download=True)\n",
    "test_loader = DataLoader(test_set, batch_size=batch_size, shuffle=False, num_workers=0)\n",
    "print(\"The number of images in a test set is: \", len(test_loader)*batch_size)\n",
    "print(\"The number of batches per epoch is: \", len(train_loader))\n",
    "classes = ('plane', 'car', 'bird', 'cat', 'deer', 'dog', 'frog', 'horse', 'ship', 'truck')"
   ]
  },
  {
   "cell_type": "code",
   "execution_count": 7,
   "id": "50c911b3-5605-4f32-8a1b-0a6e9b20e355",
   "metadata": {},
   "outputs": [],
   "source": [
    "import torchvision.models as models\n",
    "resnet18 = models.resnet18(weights=\"ResNet18_Weights.DEFAULT\")\n",
    "alexnet = models.alexnet(weights=\"AlexNet_Weights.DEFAULT\")\n",
    "squeezenet = models.squeezenet1_0(weights=\"SqueezeNet1_0_Weights.DEFAULT\")\n",
    "vgg16 = models.vgg16(weights=\"VGG16_Weights.DEFAULT\")\n",
    "#model = resnet50(weights=ResNet50_Weights.DEFAULT)\n",
    "#model = torch.hub.load(\"pytorch/vision\", \"resnet50\", weights=\"IMAGENET1K_V2\")\n",
    "\n",
    "#model = torch.hub.load('pytorch/vision:v0.10.0', 'vgg16', weights=None)\n",
    "#model = torch.hub.load('pytorch/vision:v0.10.0', 'alexnet', weights=None)\n"
   ]
  },
  {
   "cell_type": "code",
   "execution_count": 8,
   "id": "327de99b-266d-456c-9401-58f77415ab9d",
   "metadata": {},
   "outputs": [],
   "source": [
    "from torch.optim import Adam\n",
    "# Define the loss function and an optimizer with Adam optimizer\n",
    "loss_fn = nn.CrossEntropyLoss()\n",
    "optimizer = Adam(resnet18.parameters(), lr=0.01, weight_decay=0.01)"
   ]
  },
  {
   "cell_type": "code",
   "execution_count": null,
   "id": "50364760-f5ab-4335-9e04-9cfdcd09e68b",
   "metadata": {},
   "outputs": [
    {
     "name": "stdout",
     "output_type": "stream",
     "text": [
      "The model will be running on cpu device\n",
      "[1,  1000] loss: 2.340\n",
      "[1,  2000] loss: 2.004\n"
     ]
    }
   ],
   "source": [
    "if __name__ == \"__main__\":\n",
    "    # Let's build our model\n",
    "    train(model=resnet18, num_epochs=20, train_loader=train_loader, test_loader=test_loader, optimizer=optimizer, loss_fn=loss_fn)\n",
    "    print('Finished Training')\n",
    "\n",
    "    # Test which classes performed well\n",
    "    testClassess()\n",
    "    \n",
    "    # Let's load the model we just created and test the accuracy per label\n",
    "    model = resnet18\n",
    "    path = \"myFirstModel.pth\"\n",
    "    model.load_state_dict(torch.load(path))\n",
    "\n",
    "    # Test with batch of images\n",
    "    testBatch()"
   ]
  },
  {
   "cell_type": "code",
   "execution_count": null,
   "id": "1b47e166-1db6-4783-976c-a73ae28cb2c5",
   "metadata": {},
   "outputs": [],
   "source": [
    "testAccuracy(model, test_loader)\n",
    "end_time = time.time()\n",
    "print(end_time-start_time, \" seconds for testing data\")"
   ]
  },
  {
   "cell_type": "code",
   "execution_count": null,
   "id": "e9fb10e1-e20b-499e-b73a-9096bfd14e2e",
   "metadata": {},
   "outputs": [],
   "source": []
  },
  {
   "cell_type": "code",
   "execution_count": null,
   "id": "4d26e482-9e93-4da9-b7b6-6bc94bf5da38",
   "metadata": {},
   "outputs": [],
   "source": []
  }
 ],
 "metadata": {
  "kernelspec": {
   "display_name": "Python 3 (ipykernel)",
   "language": "python",
   "name": "python3"
  },
  "language_info": {
   "codemirror_mode": {
    "name": "ipython",
    "version": 3
   },
   "file_extension": ".py",
   "mimetype": "text/x-python",
   "name": "python",
   "nbconvert_exporter": "python",
   "pygments_lexer": "ipython3",
   "version": "3.9.12"
  }
 },
 "nbformat": 4,
 "nbformat_minor": 5
}
